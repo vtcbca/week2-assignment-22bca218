{
 "cells": [
  {
   "attachments": {},
   "cell_type": "markdown",
   "id": "1c539c92",
   "metadata": {},
   "source": [
    "1.Create table stud(id,name) (use I'd as primary key) stud_details(id,city,mobileno) (Use I'd as foreign key)"
   ]
  },
  {
   "cell_type": "code",
   "execution_count": 1,
   "id": "475c82c1",
   "metadata": {},
   "outputs": [],
   "source": [
    "import sqlite3 as sq"
   ]
  },
  {
   "cell_type": "code",
   "execution_count": 2,
   "id": "b677f509",
   "metadata": {},
   "outputs": [],
   "source": [
    "con=sq.connect('student.db')"
   ]
  },
  {
   "cell_type": "code",
   "execution_count": 3,
   "id": "1aa90b39",
   "metadata": {},
   "outputs": [],
   "source": [
    "cur=con.cursor()"
   ]
  },
  {
   "cell_type": "code",
   "execution_count": 4,
   "id": "664e2277",
   "metadata": {},
   "outputs": [],
   "source": [
    "table1=\"Create table if not exists stud(sid int primary key,sname text NOT NULL)\"\n"
   ]
  },
  {
   "cell_type": "code",
   "execution_count": 5,
   "id": "c60d492a",
   "metadata": {},
   "outputs": [
    {
     "data": {
      "text/plain": [
       "<sqlite3.Cursor at 0x2379e6a0d40>"
      ]
     },
     "execution_count": 5,
     "metadata": {},
     "output_type": "execute_result"
    }
   ],
   "source": [
    "cur.execute(table1)"
   ]
  },
  {
   "cell_type": "code",
   "execution_count": 6,
   "id": "791fd1fc",
   "metadata": {},
   "outputs": [],
   "source": [
    "table2=\"Create table if not exists stud_details(sid references stud(sid),city text NOT NULL,mobno int)\"\n"
   ]
  },
  {
   "cell_type": "code",
   "execution_count": 7,
   "id": "bb79df62",
   "metadata": {},
   "outputs": [
    {
     "data": {
      "text/plain": [
       "<sqlite3.Cursor at 0x2379e6a0d40>"
      ]
     },
     "execution_count": 7,
     "metadata": {},
     "output_type": "execute_result"
    }
   ],
   "source": [
    "cur.execute(table2)"
   ]
  },
  {
   "cell_type": "code",
   "execution_count": 8,
   "id": "c5f460bd",
   "metadata": {},
   "outputs": [],
   "source": [
    "con.commit()"
   ]
  },
  {
   "cell_type": "code",
   "execution_count": 9,
   "id": "fc09ea82",
   "metadata": {},
   "outputs": [],
   "source": [
    "insert1=\"insert into stud values(101,'OM'),(102,'SAI'),(103,'RAM'),(104,'RADHA'),(105,'KRISHNA'),(106,'SHIV'),(107,'ayaz'),(108,'farhan'),(109,'rehan'),(110,'ANKIT')\"\n"
   ]
  },
  {
   "cell_type": "code",
   "execution_count": 10,
   "id": "8038aebd",
   "metadata": {},
   "outputs": [
    {
     "data": {
      "text/plain": [
       "<sqlite3.Cursor at 0x2379e6a0d40>"
      ]
     },
     "execution_count": 10,
     "metadata": {},
     "output_type": "execute_result"
    }
   ],
   "source": [
    "cur.execute(insert1)"
   ]
  },
  {
   "cell_type": "code",
   "execution_count": 11,
   "id": "d6a77e69",
   "metadata": {},
   "outputs": [],
   "source": [
    "insert2=\"insert into stud_details values(101,'Surat',9872332456),(102,'Bardoli',9876723321),(103,'rajkot',9347753421),(104,'Mumbai',8764450921),(105,'Vadodara',9123552341),(106,'Surat',9876556321),(107,'Bardoli',76543090921),(108,'Mumbai',7654321098),(109,'Vadodara',9012308080),(110,'Bardoli',6543209876)\"\n"
   ]
  },
  {
   "cell_type": "code",
   "execution_count": 12,
   "id": "a24cf5f2",
   "metadata": {},
   "outputs": [
    {
     "data": {
      "text/plain": [
       "<sqlite3.Cursor at 0x2379e6a0d40>"
      ]
     },
     "execution_count": 12,
     "metadata": {},
     "output_type": "execute_result"
    }
   ],
   "source": [
    "cur.execute(insert2)"
   ]
  },
  {
   "cell_type": "code",
   "execution_count": 13,
   "id": "8dcbdb21",
   "metadata": {},
   "outputs": [],
   "source": [
    "con.commit()"
   ]
  },
  {
   "attachments": {},
   "cell_type": "markdown",
   "id": "2f9f9ac6",
   "metadata": {},
   "source": [
    "3.Display whose student come from the Surat City."
   ]
  },
  {
   "cell_type": "code",
   "execution_count": 14,
   "id": "964f2786",
   "metadata": {},
   "outputs": [],
   "source": [
    "sel1=\"select * from stud_details where city='Surat' \""
   ]
  },
  {
   "cell_type": "code",
   "execution_count": 15,
   "id": "dbdc95b4",
   "metadata": {},
   "outputs": [
    {
     "data": {
      "text/plain": [
       "<sqlite3.Cursor at 0x2379e6a0d40>"
      ]
     },
     "execution_count": 15,
     "metadata": {},
     "output_type": "execute_result"
    }
   ],
   "source": [
    "cur.execute(sel1)"
   ]
  },
  {
   "cell_type": "code",
   "execution_count": 16,
   "id": "a455b272",
   "metadata": {},
   "outputs": [
    {
     "data": {
      "text/plain": [
       "[(101, 'Surat', 9872332456), (106, 'Surat', 9876556321)]"
      ]
     },
     "execution_count": 16,
     "metadata": {},
     "output_type": "execute_result"
    }
   ],
   "source": [
    "cur.fetchall()"
   ]
  },
  {
   "cell_type": "code",
   "execution_count": 17,
   "id": "b9ffb36c",
   "metadata": {},
   "outputs": [],
   "source": [
    "con.commit()"
   ]
  },
  {
   "attachments": {},
   "cell_type": "markdown",
   "id": "1ce05b72",
   "metadata": {},
   "source": [
    "4.Display student details whose city name start with 'B'."
   ]
  },
  {
   "cell_type": "code",
   "execution_count": 18,
   "id": "21223e06",
   "metadata": {},
   "outputs": [],
   "source": [
    "sel2=\"select * from stud_details where city LIKE 'B%' \""
   ]
  },
  {
   "cell_type": "code",
   "execution_count": 19,
   "id": "771ef73d",
   "metadata": {},
   "outputs": [
    {
     "data": {
      "text/plain": [
       "<sqlite3.Cursor at 0x2379e6a0d40>"
      ]
     },
     "execution_count": 19,
     "metadata": {},
     "output_type": "execute_result"
    }
   ],
   "source": [
    "cur.execute(sel2)"
   ]
  },
  {
   "cell_type": "code",
   "execution_count": 20,
   "id": "bda09051",
   "metadata": {},
   "outputs": [
    {
     "data": {
      "text/plain": [
       "[(102, 'Bardoli', 9876723321),\n",
       " (107, 'Bardoli', 76543090921),\n",
       " (110, 'Bardoli', 6543209876)]"
      ]
     },
     "execution_count": 20,
     "metadata": {},
     "output_type": "execute_result"
    }
   ],
   "source": [
    "cur.fetchall()"
   ]
  },
  {
   "cell_type": "code",
   "execution_count": 21,
   "id": "963e6e60",
   "metadata": {},
   "outputs": [],
   "source": [
    "con.commit()"
   ]
  },
  {
   "attachments": {},
   "cell_type": "markdown",
   "id": "72cd0250",
   "metadata": {},
   "source": [
    "5.Update mobileno who are coming from 'Surat'"
   ]
  },
  {
   "cell_type": "code",
   "execution_count": 22,
   "id": "0656e3ec",
   "metadata": {},
   "outputs": [],
   "source": [
    "upd=\"update stud_details set mobno=9090808070 where city='Surat' and sid=101 \"\n"
   ]
  },
  {
   "cell_type": "code",
   "execution_count": 23,
   "id": "24ef64f3",
   "metadata": {},
   "outputs": [
    {
     "data": {
      "text/plain": [
       "<sqlite3.Cursor at 0x2379e6a0d40>"
      ]
     },
     "execution_count": 23,
     "metadata": {},
     "output_type": "execute_result"
    }
   ],
   "source": [
    "cur.execute(upd)"
   ]
  },
  {
   "cell_type": "code",
   "execution_count": 24,
   "id": "0fb9e298",
   "metadata": {},
   "outputs": [],
   "source": [
    "con.commit()"
   ]
  },
  {
   "cell_type": "code",
   "execution_count": 25,
   "id": "d7ae64fa",
   "metadata": {},
   "outputs": [],
   "source": [
    "con.close() "
   ]
  },
  {
   "cell_type": "code",
   "execution_count": null,
   "id": "9afb41fc",
   "metadata": {},
   "outputs": [],
   "source": []
  }
 ],
 "metadata": {
  "kernelspec": {
   "display_name": "Python 3 (ipykernel)",
   "language": "python",
   "name": "python3"
  },
  "language_info": {
   "codemirror_mode": {
    "name": "ipython",
    "version": 3
   },
   "file_extension": ".py",
   "mimetype": "text/x-python",
   "name": "python",
   "nbconvert_exporter": "python",
   "pygments_lexer": "ipython3",
   "version": "3.11.4"
  }
 },
 "nbformat": 4,
 "nbformat_minor": 5
}
